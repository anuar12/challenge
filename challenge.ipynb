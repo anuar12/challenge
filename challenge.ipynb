{
 "cells": [
  {
   "cell_type": "code",
   "execution_count": 1,
   "metadata": {
    "collapsed": true,
    "deletable": true,
    "editable": true
   },
   "outputs": [],
   "source": [
    "import math\n",
    "import json\n",
    "from time import time\n",
    "from collections import Counter\n",
    "\n",
    "import numpy as np\n",
    "import pandas as pd\n",
    "import sklearn\n",
    "from sklearn import ensemble, linear_model\n",
    "from sklearn import preprocessing\n",
    "from sklearn import model_selection\n",
    "from sklearn import metrics\n",
    "import matplotlib.pyplot as plt\n",
    "from bs4 import BeautifulSoup\n",
    "import requests\n",
    "import pprint as pp\n",
    "%matplotlib inline"
   ]
  },
  {
   "cell_type": "markdown",
   "metadata": {},
   "source": [
    "# Cause of Death Prediction\n",
    "We are given a dataset form wikidata of humans and their various attributes. The task is to classify cause of death. \n",
    "There are 4 possible causes of death: *accident, homicide, natural causes, suicide*.\n",
    "\n",
    "P.S. I only used a sample of the full dataset because the full dataset was 43 GB in size (compressed)."
   ]
  },
  {
   "cell_type": "markdown",
   "metadata": {
    "deletable": true,
    "editable": true
   },
   "source": [
    "## Main features Selected\n",
    "These are mostly selected by domain knowledge. Additionally, performing feature selection or dimensionality reduction algorithms are feasible to try in the future since there are many more potential useful features that can provide marginal increase in performance.\n",
    "- Age\n",
    "- Century at Birth\n",
    "- Century at Death\n",
    "- Sex or Gender\n",
    "- Country\n",
    "- Place of Death\n",
    "- Occupation\n",
    "- Religion\n",
    "- Conflict"
   ]
  },
  {
   "cell_type": "code",
   "execution_count": 2,
   "metadata": {
    "collapsed": false,
    "deletable": true,
    "editable": true
   },
   "outputs": [
    {
     "name": "stdout",
     "output_type": "stream",
     "text": [
      "(100000, 11)\n"
     ]
    }
   ],
   "source": [
    "json_path = \"./query_100000.json\" # Contains 100,000 people/rows\n",
    "with open(json_path) as f:\n",
    "    data = json.load(f)\n",
    "    \n",
    "df = pd.DataFrame.from_dict(data)\n",
    "print(df.shape)\n",
    "#df = df.sample(5000, axis=0)"
   ]
  },
  {
   "cell_type": "code",
   "execution_count": 3,
   "metadata": {
    "collapsed": false,
    "deletable": true,
    "editable": true
   },
   "outputs": [
    {
     "data": {
      "text/plain": [
       "<matplotlib.text.Text at 0x126b00ed0>"
      ]
     },
     "execution_count": 3,
     "metadata": {},
     "output_type": "execute_result"
    },
    {
     "data": {
      "image/png": "[encoded data removed]",
      "text/plain": [
       "<matplotlib.figure.Figure at 0x104321f50>"
      ]
     },
     "metadata": {},
     "output_type": "display_data"
    }
   ],
   "source": [
    "letter_counts = Counter(df['cause'].tolist())\n",
    "df_count = pd.DataFrame.from_dict(letter_counts, orient='index')\n",
    "df_count.plot(kind='bar', figsize=(9, 6))\n",
    "plt.title(\"Histogram of causes of death\", fontsize=16)\n",
    "plt.xlabel(\"Cause of death\", fontsize=12)\n",
    "plt.ylabel(\"Count\", fontsize=12)"
   ]
  },
  {
   "cell_type": "markdown",
   "metadata": {
    "deletable": true,
    "editable": true
   },
   "source": [
    "# Feature Engineering:"
   ]
  },
  {
   "cell_type": "code",
   "execution_count": 4,
   "metadata": {
    "collapsed": false,
    "deletable": true,
    "editable": true
   },
   "outputs": [
    {
     "data": {
      "text/html": [
       "<div>\n",
       "<style>\n",
       "    .dataframe thead tr:only-child th {\n",
       "        text-align: right;\n",
       "    }\n",
       "\n",
       "    .dataframe thead th {\n",
       "        text-align: left;\n",
       "    }\n",
       "\n",
       "    .dataframe tbody tr th {\n",
       "        vertical-align: top;\n",
       "    }\n",
       "</style>\n",
       "<table border=\"1\" class=\"dataframe\">\n",
       "  <thead>\n",
       "    <tr style=\"text-align: right;\">\n",
       "      <th></th>\n",
       "      <th>cause</th>\n",
       "      <th>conflict</th>\n",
       "      <th>country</th>\n",
       "      <th>date_of_birth</th>\n",
       "      <th>date_of_death</th>\n",
       "      <th>human</th>\n",
       "      <th>number_of_children</th>\n",
       "      <th>occupation</th>\n",
       "      <th>place_of_death</th>\n",
       "      <th>religion</th>\n",
       "      <th>sex_or_gender</th>\n",
       "    </tr>\n",
       "  </thead>\n",
       "  <tbody>\n",
       "    <tr>\n",
       "      <th>0</th>\n",
       "      <td>suicide</td>\n",
       "      <td>http://www.wikidata.org/entity/Q989115</td>\n",
       "      <td>Kingdom of Italy</td>\n",
       "      <td>1873-04-22T00:00:00Z</td>\n",
       "      <td>1910-10-19T00:00:00Z</td>\n",
       "      <td>Luigi Lucheni</td>\n",
       "      <td>NaN</td>\n",
       "      <td>http://www.wikidata.org/entity/Q14886050</td>\n",
       "      <td>http://www.wikidata.org/entity/Q71</td>\n",
       "      <td>NaN</td>\n",
       "      <td>http://www.wikidata.org/entity/Q6581097</td>\n",
       "    </tr>\n",
       "    <tr>\n",
       "      <th>1</th>\n",
       "      <td>suicide</td>\n",
       "      <td>NaN</td>\n",
       "      <td>Japan</td>\n",
       "      <td>1909-06-19T00:00:00Z</td>\n",
       "      <td>1948-06-13T00:00:00Z</td>\n",
       "      <td>Osamu Dazai</td>\n",
       "      <td>NaN</td>\n",
       "      <td>http://www.wikidata.org/entity/Q6625963</td>\n",
       "      <td>http://www.wikidata.org/entity/Q7473516</td>\n",
       "      <td>NaN</td>\n",
       "      <td>http://www.wikidata.org/entity/Q6581097</td>\n",
       "    </tr>\n",
       "    <tr>\n",
       "      <th>2</th>\n",
       "      <td>suicide</td>\n",
       "      <td>NaN</td>\n",
       "      <td>South Korea</td>\n",
       "      <td>1955-02-24T00:00:00Z</td>\n",
       "      <td>1982-04-27T00:00:00Z</td>\n",
       "      <td>Woo Bum-kon</td>\n",
       "      <td>NaN</td>\n",
       "      <td>http://www.wikidata.org/entity/Q15883433</td>\n",
       "      <td>http://www.wikidata.org/entity/Q50316</td>\n",
       "      <td>NaN</td>\n",
       "      <td>http://www.wikidata.org/entity/Q6581097</td>\n",
       "    </tr>\n",
       "    <tr>\n",
       "      <th>3</th>\n",
       "      <td>suicide</td>\n",
       "      <td>NaN</td>\n",
       "      <td>South Korea</td>\n",
       "      <td>1956-08-31T00:00:00Z</td>\n",
       "      <td>2018-07-23T00:00:00Z</td>\n",
       "      <td>Roh Hoe-chan</td>\n",
       "      <td>NaN</td>\n",
       "      <td>http://www.wikidata.org/entity/Q1930187</td>\n",
       "      <td>http://www.wikidata.org/entity/Q8684</td>\n",
       "      <td>NaN</td>\n",
       "      <td>http://www.wikidata.org/entity/Q6581097</td>\n",
       "    </tr>\n",
       "    <tr>\n",
       "      <th>4</th>\n",
       "      <td>suicide</td>\n",
       "      <td>NaN</td>\n",
       "      <td>South Korea</td>\n",
       "      <td>1989-05-31T00:00:00Z</td>\n",
       "      <td>2009-11-19T00:00:00Z</td>\n",
       "      <td>Daul Kim</td>\n",
       "      <td>NaN</td>\n",
       "      <td>http://www.wikidata.org/entity/Q3357567</td>\n",
       "      <td>http://www.wikidata.org/entity/Q90</td>\n",
       "      <td>NaN</td>\n",
       "      <td>http://www.wikidata.org/entity/Q6581072</td>\n",
       "    </tr>\n",
       "  </tbody>\n",
       "</table>\n",
       "</div>"
      ],
      "text/plain": [
       "     cause                                conflict           country  \\\n",
       "0  suicide  http://www.wikidata.org/entity/Q989115  Kingdom of Italy   \n",
       "1  suicide                                     NaN             Japan   \n",
       "2  suicide                                     NaN       South Korea   \n",
       "3  suicide                                     NaN       South Korea   \n",
       "4  suicide                                     NaN       South Korea   \n",
       "\n",
       "          date_of_birth         date_of_death          human  \\\n",
       "0  1873-04-22T00:00:00Z  1910-10-19T00:00:00Z  Luigi Lucheni   \n",
       "1  1909-06-19T00:00:00Z  1948-06-13T00:00:00Z    Osamu Dazai   \n",
       "2  1955-02-24T00:00:00Z  1982-04-27T00:00:00Z    Woo Bum-kon   \n",
       "3  1956-08-31T00:00:00Z  2018-07-23T00:00:00Z   Roh Hoe-chan   \n",
       "4  1989-05-31T00:00:00Z  2009-11-19T00:00:00Z       Daul Kim   \n",
       "\n",
       "  number_of_children                                occupation  \\\n",
       "0                NaN  http://www.wikidata.org/entity/Q14886050   \n",
       "1                NaN   http://www.wikidata.org/entity/Q6625963   \n",
       "2                NaN  http://www.wikidata.org/entity/Q15883433   \n",
       "3                NaN   http://www.wikidata.org/entity/Q1930187   \n",
       "4                NaN   http://www.wikidata.org/entity/Q3357567   \n",
       "\n",
       "                            place_of_death religion  \\\n",
       "0       http://www.wikidata.org/entity/Q71      NaN   \n",
       "1  http://www.wikidata.org/entity/Q7473516      NaN   \n",
       "2    http://www.wikidata.org/entity/Q50316      NaN   \n",
       "3     http://www.wikidata.org/entity/Q8684      NaN   \n",
       "4       http://www.wikidata.org/entity/Q90      NaN   \n",
       "\n",
       "                             sex_or_gender  \n",
       "0  http://www.wikidata.org/entity/Q6581097  \n",
       "1  http://www.wikidata.org/entity/Q6581097  \n",
       "2  http://www.wikidata.org/entity/Q6581097  \n",
       "3  http://www.wikidata.org/entity/Q6581097  \n",
       "4  http://www.wikidata.org/entity/Q6581072  "
      ]
     },
     "execution_count": 4,
     "metadata": {},
     "output_type": "execute_result"
    }
   ],
   "source": [
    "df.head()"
   ]
  },
  {
   "cell_type": "code",
   "execution_count": 5,
   "metadata": {
    "collapsed": false,
    "deletable": true,
    "editable": true
   },
   "outputs": [
    {
     "name": "stderr",
     "output_type": "stream",
     "text": [
      "/Users/Anuar_The_Great/anaconda/lib/python2.7/site-packages/ipykernel/__main__.py:7: SettingWithCopyWarning: \n",
      "A value is trying to be set on a copy of a slice from a DataFrame\n",
      "\n",
      "See the caveats in the documentation: http://pandas.pydata.org/pandas-docs/stable/indexing.html#indexing-view-versus-copy\n"
     ]
    }
   ],
   "source": [
    "df['year_of_death'] = pd.to_numeric(df['date_of_death'].str[:4], errors='coerce', downcast='integer')\n",
    "df['year_of_birth'] = pd.to_numeric(df['date_of_birth'].str[:4], errors='coerce', downcast='integer')\n",
    "df['century_at_birth'] = (df['year_of_birth'] / 100).round().astype('int', errors='ignore')\n",
    "df['century_at_death'] = (df['year_of_death'] / 100).round().astype('int', errors='ignore')\n",
    "df['age_at_death'] = (df['year_of_death'] - df['year_of_birth']) / 100.\n",
    "df['is_conflict'] = float('nan')\n",
    "df['is_conflict'][df['conflict'].notnull()] = 1"
   ]
  },
  {
   "cell_type": "code",
   "execution_count": null,
   "metadata": {
    "collapsed": true,
    "deletable": true,
    "editable": true
   },
   "outputs": [],
   "source": [
    "\"\"\"\n",
    "*DON'T RUN THIS CELL!*\n",
    "The code in this cell fetches value from the wiki page given the url in the json file.\n",
    "THIS IS ONLY USED IN DATA EXPLORATION!  We can create features without using semantic information.\n",
    "\"\"\"\n",
    "def get_value_from_url(url):\n",
    "    if type(url) == float and math.isnan(url): return url\n",
    "    start_time = time()\n",
    "    response = requests.get(url)\n",
    "    if response.status_code != 200: return float('nan')\n",
    "    #print(\"Time taken: \", time() - start_time)\n",
    "    data = response.content\n",
    "    soup = BeautifulSoup(data, \"lxml\")\n",
    "    parsed_str = str(soup.html.body.p.contents[0])\n",
    "    parsed_dict = json.loads(parsed_str)\n",
    "    value_id = url.split('/')[-1]\n",
    "    value = parsed_dict['entities'][value_id]['labels']['en']['value']\n",
    "    return value\n",
    "\n",
    "df['gender_parsed'] = df['sex_or_gender'].apply(get_value_from_url)\n",
    "df['occupation_parsed'] = df['occupation'].apply(get_value_from_url)\n",
    "df['place_of_death_parsed'] = df['place_of_death'].apply(get_value_from_url)\n",
    "df['religion_parsed'] = df['religion'].apply(get_value_from_url)"
   ]
  },
  {
   "cell_type": "code",
   "execution_count": 6,
   "metadata": {
    "collapsed": true
   },
   "outputs": [],
   "source": [
    "\"\"\"\n",
    "# NOTE: Initially slow version in this cell, see next cell for realtime version!\n",
    "\"\"\"\n",
    "def replace_low_count_feats(df, field_name, thresh=5):\n",
    "    \"\"\"\n",
    "    Due to the fact that the number of features explodes during \n",
    "    one-hot encoding, we 'pad' values with count<thresh to NaN.\n",
    "    \"\"\"\n",
    "    value_counts = df[field_name].value_counts()\n",
    "    value_counts[float('nan')] = 0\n",
    "    for i, row in df.iterrows():\n",
    "        field = row[field_name]\n",
    "        if type(field) == float and math.isnan(field):\n",
    "            continue\n",
    "        else:\n",
    "            count = value_counts[field]\n",
    "            if count < thresh:\n",
    "                df[field_name][i] = float('nan')\n",
    "    return df"
   ]
  },
  {
   "cell_type": "code",
   "execution_count": null,
   "metadata": {
    "collapsed": false,
    "deletable": true,
    "editable": true
   },
   "outputs": [],
   "source": [
    "\"\"\"\n",
    "*DON'T RUN THIS CELL!*\n",
    "# NOTE: Initially slow version in this cell, see next cell for realtime version!\n",
    "\"\"\"\n",
    "print(\"Before: \", df['occupation'].unique().shape, df['place_of_death'].unique().shape,\n",
    "      df['country'].unique().shape, df['religion'].unique().shape)\n",
    "df = replace_low_count_feats(df, \"occupation\", thresh=30)\n",
    "df = replace_low_count_feats(df, \"place_of_death\", thresh=30)\n",
    "df = replace_low_count_feats(df, \"country\", thresh=30)\n",
    "df = replace_low_count_feats(df, \"religion\", thresh=30)\n",
    "print(\"After: \", df['occupation'].unique().shape, df['place_of_death'].unique().shape,\n",
    "      df['country'].unique().shape, df['religion'].unique().shape)"
   ]
  },
  {
   "cell_type": "code",
   "execution_count": 7,
   "metadata": {
    "collapsed": false
   },
   "outputs": [],
   "source": [
    "def for_apply(x, value_counts=None, thresh=10):\n",
    "    if type(x) == float and math.isnan(x):\n",
    "        return float('nan')\n",
    "    else:\n",
    "        count = value_counts[x]\n",
    "        if count < thresh:\n",
    "            return float('nan')\n",
    "        else:\n",
    "            return x\n",
    "        \n",
    "df['occupation'] = df['occupation'].apply(for_apply, value_counts=df['occupation'].value_counts(), thresh=30)       \n",
    "df['place_of_death'] = df['place_of_death'].apply(for_apply, value_counts=df['place_of_death'].value_counts(), thresh=30)\n",
    "df['country'] = df['country'].apply(for_apply, value_counts=df['country'].value_counts(), thresh=30)\n",
    "df['religion'] = df['religion'].apply(for_apply, value_counts=df['religion'].value_counts(), thresh=30)"
   ]
  },
  {
   "cell_type": "code",
   "execution_count": 8,
   "metadata": {
    "collapsed": false
   },
   "outputs": [
    {
     "name": "stdout",
     "output_type": "stream",
     "text": [
      "1 loop, best of 1: 8.92 s per loop\n",
      "1 loop, best of 3: 244 ms per loop\n"
     ]
    }
   ],
   "source": [
    "%timeit -n 1 -r 1 replace_low_count_feats(df, \"religion\", thresh=30)\n",
    "%timeit df['religion'].apply(for_apply, value_counts=df['religion'].value_counts(), thresh=30)"
   ]
  },
  {
   "cell_type": "code",
   "execution_count": 9,
   "metadata": {
    "collapsed": false,
    "deletable": true,
    "editable": true
   },
   "outputs": [
    {
     "name": "stdout",
     "output_type": "stream",
     "text": [
      "[u'accident', u'homicide', u'natural causes', u'suicide']\n",
      "(array([0, 1, 2, 3]), array([10245,  9217, 68588, 11950]))\n"
     ]
    }
   ],
   "source": [
    "# Preparing labels\n",
    "le = preprocessing.LabelEncoder()\n",
    "le.fit(df['cause'])\n",
    "labels = le.transform(df['cause'])\n",
    "uniques, counts = np.unique(labels, return_counts=True)\n",
    "print(list(le.classes_))\n",
    "print(uniques, counts)"
   ]
  },
  {
   "cell_type": "code",
   "execution_count": 10,
   "metadata": {
    "collapsed": false,
    "deletable": true,
    "editable": true
   },
   "outputs": [
    {
     "name": "stdout",
     "output_type": "stream",
     "text": [
      "Shapes of one-hot encoded features: \n",
      "((100000, 6), (100000, 276), (100000, 360), (100000, 158), (100000, 50), (100000, 50))\n",
      "('features.shape: ', (100000, 853))\n"
     ]
    }
   ],
   "source": [
    "one_hot_gender = pd.get_dummies(df['sex_or_gender'], dummy_na=True)\n",
    "one_hot_occupation = pd.get_dummies(df['occupation'], dummy_na=True)\n",
    "one_hot_place_of_death = pd.get_dummies(df['place_of_death'], dummy_na=True)\n",
    "one_hot_country = pd.get_dummies(df['country'], dummy_na=True)\n",
    "one_hot_religion = pd.get_dummies(df['religion'], dummy_na=True)\n",
    "one_hot_conflict = pd.get_dummies(df['religion'], dummy_na=True)\n",
    "\n",
    "print(\"Shapes of one-hot encoded features: \")\n",
    "print(one_hot_gender.shape, one_hot_occupation.shape, one_hot_place_of_death.shape,\n",
    "      one_hot_country.shape, one_hot_religion.shape, one_hot_conflict.shape)\n",
    "\n",
    "features = np.concatenate((np.nan_to_num(np.array(df['age_at_death'])[:, None]),\n",
    "                           np.nan_to_num(np.array(df['century_at_birth'])[:, None]),\n",
    "                           np.nan_to_num(np.array(df['century_at_death'])[:, None]),), axis=1)\n",
    "features = np.concatenate((features,\n",
    "                           one_hot_gender,\n",
    "                           one_hot_occupation,\n",
    "                           one_hot_place_of_death,\n",
    "                           one_hot_country,\n",
    "                           one_hot_religion), axis=1)\n",
    "#labels = pd.get_dummies(df['cause'])\n",
    "assert(labels.shape[0] == features.shape[0])\n",
    "print(\"features.shape: \", features.shape)"
   ]
  },
  {
   "cell_type": "code",
   "execution_count": 11,
   "metadata": {
    "collapsed": false,
    "deletable": true,
    "editable": true
   },
   "outputs": [
    {
     "name": "stdout",
     "output_type": "stream",
     "text": [
      "((70000, 853), (9999, 853), (20001, 853), (70000,), (9999,), (20001,))\n",
      "Number of samples in train/val/test split: 70000/9999/20001\n"
     ]
    }
   ],
   "source": [
    "X_train, X_val_test, y_train, y_val_test = model_selection.train_test_split(\n",
    "            features, labels, test_size=0.3, random_state=0, stratify=labels)\n",
    "X_val, X_test, y_val, y_test = model_selection.train_test_split(\n",
    "            X_val_test, y_val_test, test_size=0.6667, random_state=0, stratify=y_val_test)\n",
    "print(X_train.shape, X_val.shape, X_test.shape, y_train.shape, y_val.shape, y_test.shape)\n",
    "print(\"Number of samples in train/val/test split: %d/%d/%d\" % (y_train.shape[0], y_val.shape[0], y_test.shape[0]))"
   ]
  },
  {
   "cell_type": "markdown",
   "metadata": {},
   "source": [
    "# Modelling\n",
    "I try 3 different models that usually prove to be the most effective and can solve the problem in tractable time:\n",
    "- Logistic Regression\n",
    "- Support Vector Machine (with linear kernel)\n",
    "- Random Forest\n",
    "\n",
    "Hyperparameters are fine-tuned on the validation set without looking into the test set."
   ]
  },
  {
   "cell_type": "code",
   "execution_count": 12,
   "metadata": {
    "collapsed": false
   },
   "outputs": [
    {
     "name": "stdout",
     "output_type": "stream",
     "text": [
      "Train Set Accuracy: 73.9%\n",
      "Validation Set Accuracy: 73.0%\n"
     ]
    }
   ],
   "source": [
    "clf_LR = linear_model.LogisticRegression(penalty='l1', random_state=0, solver='liblinear',\n",
    "                                         multi_class='ovr')\n",
    "clf_LR.fit(X_train, y_train)\n",
    "preds_train = clf_LR.predict(X_train)\n",
    "preds_val = clf_LR.predict(X_val)\n",
    "acc_train = metrics.accuracy_score(y_train, preds_train)\n",
    "acc_val = metrics.accuracy_score(y_val, preds_val)\n",
    "print(\"Train Set Accuracy: %.1f%%\" % (acc_train*100))\n",
    "print(\"Validation Set Accuracy: %.1f%%\" % (acc_val*100))"
   ]
  },
  {
   "cell_type": "code",
   "execution_count": 13,
   "metadata": {
    "collapsed": false,
    "deletable": true,
    "editable": true
   },
   "outputs": [
    {
     "name": "stdout",
     "output_type": "stream",
     "text": [
      "[LibLinear]Train Set Accuracy: 73.5%\n",
      "Validation Set Accuracy: 72.8%\n"
     ]
    }
   ],
   "source": [
    "from sklearn import svm\n",
    "clf_SVC = svm.LinearSVC(dual=False, C=1., random_state=0, tol=1e-6, verbose=3, max_iter=10000)\n",
    "clf_SVC.fit(X_train, y_train)\n",
    "preds_train = clf_SVC.predict(X_train)\n",
    "preds_val = clf_SVC.predict(X_val)\n",
    "acc_train = metrics.accuracy_score(y_train, preds_train)\n",
    "acc_val = metrics.accuracy_score(y_val, preds_val)\n",
    "print(\"Train Set Accuracy: %.1f%%\" % (acc_train*100))\n",
    "print(\"Validation Set Accuracy: %.1f%%\" % (acc_val*100))"
   ]
  },
  {
   "cell_type": "code",
   "execution_count": 14,
   "metadata": {
    "collapsed": false
   },
   "outputs": [
    {
     "name": "stdout",
     "output_type": "stream",
     "text": [
      "Train Set Accuracy: 68.6%\n",
      "Validation Set Accuracy: 68.6%\n"
     ]
    }
   ],
   "source": [
    "clf_RF = ensemble.RandomForestClassifier(n_estimators=200, max_depth=2, random_state=0)\n",
    "clf_RF.fit(X_train, y_train)\n",
    "preds_train = clf_RF.predict(X_train)\n",
    "preds_val = clf_RF.predict(X_val)\n",
    "acc_train = metrics.accuracy_score(y_train, preds_train)\n",
    "acc_val = metrics.accuracy_score(y_val, preds_val)\n",
    "print(\"Train Set Accuracy: %.1f%%\" % (acc_train*100))\n",
    "print(\"Validation Set Accuracy: %.1f%%\" % (acc_val*100))"
   ]
  },
  {
   "cell_type": "markdown",
   "metadata": {},
   "source": [
    "# Results"
   ]
  },
  {
   "cell_type": "code",
   "execution_count": 15,
   "metadata": {
    "collapsed": false
   },
   "outputs": [
    {
     "name": "stdout",
     "output_type": "stream",
     "text": [
      "Logistic Regression Test Set Accuracy: 73.5%\n",
      "Linear SVM Test Set Accuracy: 73.0%\n",
      "Random Forest Test Set Accuracy: 68.6%\n",
      "\n",
      "                precision    recall  f1-score   support\n",
      "\n",
      "      accident       0.54      0.21      0.31      2050\n",
      "      homicide       0.57      0.40      0.47      1843\n",
      "natural causes       0.77      0.95      0.85     13718\n",
      "       suicide       0.47      0.19      0.27      2390\n",
      "\n",
      "   avg / total       0.69      0.74      0.69     20001\n",
      "\n",
      "                precision    recall  f1-score   support\n",
      "\n",
      "      accident       0.61      0.16      0.26      2050\n",
      "      homicide       0.56      0.37      0.45      1843\n",
      "natural causes       0.75      0.97      0.85     13718\n",
      "       suicide       0.52      0.13      0.20      2390\n",
      "\n",
      "   avg / total       0.69      0.73      0.67     20001\n",
      "\n",
      "                precision    recall  f1-score   support\n",
      "\n",
      "      accident       0.00      0.00      0.00      2050\n",
      "      homicide       0.00      0.00      0.00      1843\n",
      "natural causes       0.69      1.00      0.81     13718\n",
      "       suicide       0.00      0.00      0.00      2390\n",
      "\n",
      "   avg / total       0.47      0.69      0.56     20001\n",
      "\n"
     ]
    },
    {
     "name": "stderr",
     "output_type": "stream",
     "text": [
      "/Users/Anuar_The_Great/anaconda/lib/python2.7/site-packages/sklearn/metrics/classification.py:1113: UndefinedMetricWarning: Precision and F-score are ill-defined and being set to 0.0 in labels with no predicted samples.\n",
      "  'precision', 'predicted', average, warn_for)\n"
     ]
    }
   ],
   "source": [
    "preds_LR = clf_LR.predict(X_test)\n",
    "preds_SVC = clf_SVC.predict(X_test)\n",
    "preds_RF = clf_RF.predict(X_test)\n",
    "\n",
    "acc_LR = metrics.accuracy_score(y_test, preds_LR)\n",
    "acc_SVC = metrics.accuracy_score(y_test, preds_SVC)\n",
    "acc_RF = metrics.accuracy_score(y_test, preds_RF)\n",
    "print(\"Logistic Regression Test Set Accuracy: %.1f%%\" % (acc_LR*100))\n",
    "print(\"Linear SVM Test Set Accuracy: %.1f%%\" % (acc_SVC*100))\n",
    "print(\"Random Forest Test Set Accuracy: %.1f%%\\n\" % (acc_RF*100))\n",
    "\n",
    "print(metrics.classification_report(y_test, preds_LR, target_names=le.classes_))\n",
    "print(metrics.classification_report(y_test, preds_SVC, target_names=le.classes_))\n",
    "print(metrics.classification_report(y_test, preds_RF, target_names=le.classes_))"
   ]
  },
  {
   "cell_type": "markdown",
   "metadata": {},
   "source": [
    "#### The most accurate model both by accuracy and by F1-score (which is balanced metric) is: **Logistic Regression**\n",
    "In comparison, RF overfit which is evident of its 0.56 F1-score while Logistic Regression has 0.69 F1-score.  \n",
    "SVM is slightly lower in accuracy and F1-score than Logistic Regression."
   ]
  },
  {
   "cell_type": "code",
   "execution_count": 16,
   "metadata": {
    "collapsed": false
   },
   "outputs": [
    {
     "data": {
      "text/plain": [
       "<matplotlib.text.Text at 0x114243390>"
      ]
     },
     "execution_count": 16,
     "metadata": {},
     "output_type": "execute_result"
    },
    {
     "data": {
      "image/png": "[encoded data removed]",
      "text/plain": [
       "<matplotlib.figure.Figure at 0x126bb8910>"
      ]
     },
     "metadata": {},
     "output_type": "display_data"
    }
   ],
   "source": [
    "# In order to make sure classifier doesn't learn only specific labels\n",
    "uniques, counts = np.unique(preds_LR, return_counts=True)\n",
    "plt.bar(uniques, counts)\n",
    "plt.xticks(uniques+0.5, le.classes_)\n",
    "plt.xlabel(\"Cause of death\")\n",
    "plt.ylabel(\"Count\")"
   ]
  },
  {
   "cell_type": "markdown",
   "metadata": {
    "deletable": true,
    "editable": true
   },
   "source": [
    "# Additional Improvements in the future\n",
    "Instead of naively encoding the features into one-hot encoded vectors we could create an embedding and learn it with a neural network. We would have an embedding layer and then several fully-connected layers with ReLU non-linearity and batch-normalization. This will solve curse of dimensionality problem and will probably generalize better.\n"
   ]
  }
 ],
 "metadata": {
  "kernelspec": {
   "display_name": "Python 2",
   "language": "python",
   "name": "python2"
  },
  "language_info": {
   "codemirror_mode": {
    "name": "ipython",
    "version": 2
   },
   "file_extension": ".py",
   "mimetype": "text/x-python",
   "name": "python",
   "nbconvert_exporter": "python",
   "pygments_lexer": "ipython2",
   "version": "2.7.11"
  }
 },
 "nbformat": 4,
 "nbformat_minor": 2
}
